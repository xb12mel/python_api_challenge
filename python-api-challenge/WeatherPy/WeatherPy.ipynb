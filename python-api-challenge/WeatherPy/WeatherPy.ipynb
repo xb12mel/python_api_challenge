{
 "cells": [
  {
   "cell_type": "markdown",
   "metadata": {},
   "source": [
    "# WeatherPy\n",
    "----\n",
    "\n",
    "#### Note\n",
    "* Instructions have been included for each segment. You do not have to follow them exactly, but they are included to help you think through the steps."
   ]
  },
  {
   "cell_type": "code",
   "execution_count": 1,
   "metadata": {
    "scrolled": true
   },
   "outputs": [
    {
     "name": "stdout",
     "output_type": "stream",
     "text": [
      ""
     ]
    }
   ],
   "source": [
    "# Incorporated citipy to determine city based on latitude and longitude\n",
    "from citipy import citipy\n",
    "\n",
    "# Dependencies and Setup\n",
    "import matplotlib.pyplot as plt\n",
    "import pandas as pd\n",
    "import numpy as np\n",
    "import requests\n",
    "import time\n",
    "from scipy.stats import linregress\n",
    "from pprint import pprint\n",
    "\n",
    "# Import API key\n",
    "from api_keys import weather_api_key\n",
    "\n",
    "# Output File (CSV)\n",
    "output_data_file = \"output_data/cities.csv\"\n",
    "\n",
    "# Range of latitudes and longitudes\n",
    "lat_range = (-90, 90)\n",
    "lng_range = (-180, 180)\n",
    "print(weather_api_key)"
   ]
  },
  {
   "cell_type": "markdown",
   "metadata": {},
   "source": [
    "## Generate Cities List"
   ]
  },
  {
   "cell_type": "code",
   "execution_count": 2,
   "metadata": {},
   "outputs": [
    {
     "data": {
      "text/plain": [
       "652"
      ]
     },
     "execution_count": 2,
     "metadata": {},
     "output_type": "execute_result"
    }
   ],
   "source": [
    "# List for holding lat_lngs and cities\n",
    "lat_lngs = []\n",
    "cities = []\n",
    "\n",
    "# Create a set of random lat and lng combinations\n",
    "lats = np.random.uniform(lat_range[0], lat_range[1], size=1500)\n",
    "lngs = np.random.uniform(lng_range[0], lng_range[1], size=1500)\n",
    "lat_lngs = zip(lats, lngs)\n",
    "\n",
    "# Identify nearest city for each lat, lng combination\n",
    "for lat_lng in lat_lngs:\n",
    "    city = citipy.nearest_city(lat_lng[0], lat_lng[1]).city_name\n",
    "    \n",
    "    # If the city is unique, then add it to a our cities list\n",
    "    if city not in cities:\n",
    "        cities.append(city)\n",
    "\n",
    "# Print the city count to confirm sufficient count\n",
    "len(cities)"
   ]
  },
  {
   "cell_type": "markdown",
   "metadata": {},
   "source": [
    "### Perform API Calls\n",
    "* Perform a weather check on each city using a series of successive API calls.\n",
    "* Include a print log of each city as it'sbeing processed (with the city number and city name).\n"
   ]
  },
  {
   "cell_type": "code",
   "execution_count": 3,
   "metadata": {},
   "outputs": [],
   "source": [
    "# set the scale of temperature in degrees f\n",
    "units = \"imperial\"\n",
    "\n",
    "# make the call go get the temperature data\n",
    "base_url = f\"http://api.openweathermap.org/data/2.5/weather?appid={weather_api_key}&units={units}&q=\"\n",
    "\n",
    "# variables for list storage\n",
    "city_name = []\n",
    "city_lats = []\n",
    "city_lngs = []\n",
    "city_temp = []\n",
    "city_maxtemps = []\n",
    "city_humidity = []\n",
    "city_cloudiness = []\n",
    "city_windspeed = []\n",
    "city_country = []\n",
    "date = []\n",
    "\n",
    "# count cities in batches\n",
    "item = 1\n",
    "batch = 1\n"
   ]
  },
  {
   "cell_type": "code",
   "execution_count": 4,
   "metadata": {},
   "outputs": [
    {
     "name": "stdout",
     "output_type": "stream",
     "text": [
      " Searching Cities of the World\n",
      "*******************************\n",
      "Getting weather for City 1 of of group 1 : chokurdakh\n",
      "Getting weather for City 2 of of group 1 : hilo\n",
      "Getting weather for City 3 of of group 1 : nikolskoye\n",
      "Getting weather for City 4 of of group 1 : ancud\n",
      "Getting weather for City 5 of of group 1 : cururupu\n",
      "Getting weather for City 6 of of group 1 : busselton\n",
      "Getting weather for City 7 of of group 1 : esperance\n",
      "Getting weather for City 8 of of group 1 : port alfred\n",
      "Getting weather for City 9 of of group 1 : xining\n",
      "Getting weather for City 10 of of group 1 : key west\n",
      "Getting weather for City 11 of of group 1 : arlit\n",
      "Getting weather for City 12 of of group 1 : meulaboh\n",
      "Getting weather for City 13 of of group 1 : kavieng\n",
      "Getting weather for City 14 of of group 1 : watertown\n",
      "Getting weather for City 15 of of group 1 : baykalsk\n",
      "Getting weather for City 16 of of group 1 : cabo san lucas\n",
      "Getting weather for City 17 of of group 1 : rikitea\n",
      "Getting weather for City 18 of of group 1 : vaini\n",
      "Getting weather for City 19 of of group 1 : palabuhanratu\n",
      "City palabuhanratu isn't reporting weather. Trying again\n",
      "Getting weather for City 19 of of group 1 : atuona\n",
      "Getting weather for City 20 of of group 1 : lindsay\n",
      "Getting weather for City 21 of of group 1 : aykhal\n",
      "Getting weather for City 22 of of group 1 : vaitupu\n",
      "City vaitupu isn't reporting weather. Trying again\n",
      "Getting weather for City 22 of of group 1 : jamestown\n",
      "Getting weather for City 23 of of group 1 : lakes entrance\n",
      "Getting weather for City 24 of of group 1 : kapaa\n",
      "Getting weather for City 25 of of group 1 : carnarvon\n",
      "Getting weather for City 26 of of group 1 : general pico\n",
      "Getting weather for City 27 of of group 1 : belushya guba\n",
      "City belushya guba isn't reporting weather. Trying again\n",
      "Getting weather for City 27 of of group 1 : china\n",
      "Getting weather for City 28 of of group 1 : nogliki\n",
      "Getting weather for City 29 of of group 1 : inverell\n",
      "Getting weather for City 30 of of group 1 : punta arenas\n",
      "Getting weather for City 31 of of group 1 : lata\n",
      "Getting weather for City 32 of of group 1 : nevesinje\n",
      "Getting weather for City 33 of of group 1 : cine\n",
      "Getting weather for City 34 of of group 1 : ushuaia\n",
      "Getting weather for City 35 of of group 1 : port elizabeth\n",
      "Getting weather for City 36 of of group 1 : luderitz\n",
      "Getting weather for City 37 of of group 1 : tasiilaq\n",
      "Getting weather for City 38 of of group 1 : tolaga bay\n",
      "Getting weather for City 39 of of group 1 : albany\n",
      "Getting weather for City 40 of of group 1 : ponta do sol\n",
      "Getting weather for City 41 of of group 1 : ahuimanu\n",
      "Getting weather for City 42 of of group 1 : talnakh\n",
      "Getting weather for City 43 of of group 1 : uberaba\n",
      "Getting weather for City 44 of of group 1 : batemans bay\n",
      "Getting weather for City 45 of of group 1 : diego de almagro\n",
      "Getting weather for City 46 of of group 1 : calama\n",
      "Getting weather for City 47 of of group 1 : tiksi\n",
      "Getting weather for City 48 of of group 1 : mataura\n",
      "Getting weather for City 49 of of group 1 : umzimvubu\n",
      "City umzimvubu isn't reporting weather. Trying again\n",
      "Getting weather for City 49 of of group 1 : kahama\n",
      "Getting weather for City 50 of of group 1 : shizuishan\n",
      "Getting weather for City 1 of of group 2 : mirnyy\n",
      "Getting weather for City 2 of of group 2 : new norfolk\n",
      "Getting weather for City 3 of of group 2 : cherskiy\n",
      "Getting weather for City 4 of of group 2 : aranos\n",
      "Getting weather for City 5 of of group 2 : tsihombe\n",
      "City tsihombe isn't reporting weather. Trying again\n",
      "Getting weather for City 5 of of group 2 : imeni poliny osipenko\n",
      "Getting weather for City 6 of of group 2 : hay river\n",
      "Getting weather for City 7 of of group 2 : goderich\n",
      "Getting weather for City 8 of of group 2 : ahipara\n",
      "Getting weather for City 9 of of group 2 : houma\n",
      "Getting weather for City 10 of of group 2 : jindrichuv hradec\n",
      "Getting weather for City 11 of of group 2 : barrow\n",
      "Getting weather for City 12 of of group 2 : sao filipe\n",
      "Getting weather for City 13 of of group 2 : shimoda\n",
      "Getting weather for City 14 of of group 2 : qaanaaq\n",
      "Getting weather for City 15 of of group 2 : longyearbyen\n",
      "Getting weather for City 16 of of group 2 : xingcheng\n",
      "Getting weather for City 17 of of group 2 : saint-leu\n",
      "Getting weather for City 18 of of group 2 : buraydah\n",
      "Getting weather for City 19 of of group 2 : san patricio\n",
      "Getting weather for City 20 of of group 2 : taltal\n",
      "Getting weather for City 21 of of group 2 : grindavik\n",
      "Getting weather for City 22 of of group 2 : katsuura\n",
      "Getting weather for City 23 of of group 2 : synya\n",
      "Getting weather for City 24 of of group 2 : acapulco\n",
      "Getting weather for City 25 of of group 2 : wewak\n",
      "Getting weather for City 26 of of group 2 : flin flon\n",
      "Getting weather for City 27 of of group 2 : hendijan\n",
      "City hendijan isn't reporting weather. Trying again\n",
      "Getting weather for City 27 of of group 2 : wonogiri\n",
      "Getting weather for City 28 of of group 2 : butaritari\n",
      "Getting weather for City 29 of of group 2 : sartell\n",
      "Getting weather for City 30 of of group 2 : kisangani\n",
      "Getting weather for City 31 of of group 2 : bredasdorp\n",
      "Getting weather for City 32 of of group 2 : saint-pierre\n",
      "Getting weather for City 33 of of group 2 : dikson\n",
      "Getting weather for City 34 of of group 2 : castro\n",
      "Getting weather for City 35 of of group 2 : cayenne\n",
      "Getting weather for City 36 of of group 2 : carmaux\n",
      "Getting weather for City 37 of of group 2 : leh\n",
      "Getting weather for City 38 of of group 2 : stromness\n",
      "Getting weather for City 39 of of group 2 : trapani\n",
      "Getting weather for City 40 of of group 2 : peniche\n",
      "Getting weather for City 41 of of group 2 : upernavik\n",
      "Getting weather for City 42 of of group 2 : bethel\n",
      "Getting weather for City 43 of of group 2 : cap-aux-meules\n",
      "Getting weather for City 44 of of group 2 : kefamenanu\n",
      "Getting weather for City 45 of of group 2 : nome\n",
      "Getting weather for City 46 of of group 2 : havoysund\n",
      "Getting weather for City 47 of of group 2 : avarua\n",
      "Getting weather for City 48 of of group 2 : ngunguru\n",
      "Getting weather for City 49 of of group 2 : kodiak\n",
      "Getting weather for City 50 of of group 2 : oyama\n",
      "Getting weather for City 1 of of group 3 : hovd\n",
      "Getting weather for City 2 of of group 3 : provideniya\n",
      "Getting weather for City 3 of of group 3 : khatanga\n",
      "Getting weather for City 4 of of group 3 : norman wells\n",
      "Getting weather for City 5 of of group 3 : georgetown\n",
      "Getting weather for City 6 of of group 3 : navahrudak\n",
      "Getting weather for City 7 of of group 3 : port hardy\n",
      "Getting weather for City 8 of of group 3 : miranorte\n",
      "City miranorte isn't reporting weather. Trying again\n",
      "Getting weather for City 8 of of group 3 : fortuna\n",
      "Getting weather for City 9 of of group 3 : aswan\n",
      "Getting weather for City 10 of of group 3 : oconomowoc\n",
      "Getting weather for City 11 of of group 3 : korsakovo\n",
      "Getting weather for City 12 of of group 3 : khasan\n",
      "Getting weather for City 13 of of group 3 : solnechnyy\n",
      "Getting weather for City 14 of of group 3 : san vicente\n",
      "Getting weather for City 15 of of group 3 : atlantis\n",
      "Getting weather for City 16 of of group 3 : arraial do cabo\n",
      "Getting weather for City 17 of of group 3 : libertador general san martin\n",
      "Getting weather for City 18 of of group 3 : sandakan\n",
      "Getting weather for City 19 of of group 3 : vila velha\n",
      "Getting weather for City 20 of of group 3 : dingle\n",
      "Getting weather for City 21 of of group 3 : ostrovnoy\n",
      "Getting weather for City 22 of of group 3 : mahanoro\n",
      "Getting weather for City 23 of of group 3 : cape town\n",
      "Getting weather for City 24 of of group 3 : yellowknife\n",
      "Getting weather for City 25 of of group 3 : sunamganj\n",
      "City sunamganj isn't reporting weather. Trying again\n",
      "Getting weather for City 25 of of group 3 : souillac\n",
      "Getting weather for City 26 of of group 3 : taolanaro\n",
      "City taolanaro isn't reporting weather. Trying again\n",
      "Getting weather for City 26 of of group 3 : vondrozo\n",
      "Getting weather for City 27 of of group 3 : zhigalovo\n",
      "Getting weather for City 28 of of group 3 : iquique\n",
      "Getting weather for City 29 of of group 3 : miles city\n",
      "Getting weather for City 30 of of group 3 : ko samui\n",
      "Getting weather for City 31 of of group 3 : hermanus\n",
      "Getting weather for City 32 of of group 3 : port-gentil\n",
      "Getting weather for City 33 of of group 3 : vao\n",
      "Getting weather for City 34 of of group 3 : dali\n",
      "Getting weather for City 35 of of group 3 : conde\n",
      "Getting weather for City 36 of of group 3 : skalistyy\n",
      "City skalistyy isn't reporting weather. Trying again\n",
      "Getting weather for City 36 of of group 3 : hobart\n"
     ]
    },
    {
     "name": "stdout",
     "output_type": "stream",
     "text": [
      "Getting weather for City 37 of of group 3 : dalianwan\n",
      "Getting weather for City 38 of of group 3 : attawapiskat\n",
      "City attawapiskat isn't reporting weather. Trying again\n",
      "Getting weather for City 38 of of group 3 : saskylakh\n",
      "Getting weather for City 39 of of group 3 : vardo\n",
      "Getting weather for City 40 of of group 3 : yerbogachen\n",
      "Getting weather for City 41 of of group 3 : moose factory\n",
      "Getting weather for City 42 of of group 3 : khandbari\n",
      "Getting weather for City 43 of of group 3 : champerico\n",
      "Getting weather for City 44 of of group 3 : marsassoum\n",
      "Getting weather for City 45 of of group 3 : east london\n",
      "Getting weather for City 46 of of group 3 : rio grande\n",
      "Getting weather for City 47 of of group 3 : saint-philippe\n",
      "Getting weather for City 48 of of group 3 : tuktoyaktuk\n",
      "Getting weather for City 49 of of group 3 : toshkivka\n",
      "Getting weather for City 50 of of group 3 : long beach\n",
      "Getting weather for City 1 of of group 4 : lake havasu city\n",
      "Getting weather for City 2 of of group 4 : sainte-suzanne\n",
      "Getting weather for City 3 of of group 4 : sacramento\n",
      "Getting weather for City 4 of of group 4 : taonan\n",
      "Getting weather for City 5 of of group 4 : piryion\n",
      "City piryion isn't reporting weather. Trying again\n",
      "Getting weather for City 5 of of group 4 : half moon bay\n",
      "Getting weather for City 6 of of group 4 : brae\n",
      "Getting weather for City 7 of of group 4 : juneau\n",
      "Getting weather for City 8 of of group 4 : bathsheba\n",
      "Getting weather for City 9 of of group 4 : abnub\n",
      "Getting weather for City 10 of of group 4 : constitucion\n",
      "Getting weather for City 11 of of group 4 : geraldton\n",
      "Getting weather for City 12 of of group 4 : hithadhoo\n",
      "Getting weather for City 13 of of group 4 : amderma\n",
      "City amderma isn't reporting weather. Trying again\n",
      "Getting weather for City 13 of of group 4 : pitiquito\n",
      "Getting weather for City 14 of of group 4 : mahebourg\n",
      "Getting weather for City 15 of of group 4 : ngaoundere\n",
      "Getting weather for City 16 of of group 4 : amalapuram\n",
      "Getting weather for City 17 of of group 4 : kaitangata\n",
      "Getting weather for City 18 of of group 4 : nuuk\n",
      "Getting weather for City 19 of of group 4 : chifeng\n",
      "Getting weather for City 20 of of group 4 : mar del plata\n",
      "Getting weather for City 21 of of group 4 : turukhansk\n",
      "Getting weather for City 22 of of group 4 : ixtapa\n",
      "Getting weather for City 23 of of group 4 : mansa\n",
      "Getting weather for City 24 of of group 4 : shingu\n",
      "Getting weather for City 25 of of group 4 : torbay\n",
      "Getting weather for City 26 of of group 4 : tessalit\n",
      "Getting weather for City 27 of of group 4 : himora\n",
      "City himora isn't reporting weather. Trying again\n",
      "Getting weather for City 27 of of group 4 : batavia\n",
      "Getting weather for City 28 of of group 4 : nanortalik\n",
      "Getting weather for City 29 of of group 4 : aklavik\n",
      "Getting weather for City 30 of of group 4 : laiagam\n",
      "City laiagam isn't reporting weather. Trying again\n",
      "Getting weather for City 30 of of group 4 : airai\n",
      "Getting weather for City 31 of of group 4 : thunder bay\n",
      "Getting weather for City 32 of of group 4 : warri\n",
      "Getting weather for City 33 of of group 4 : bluff\n",
      "Getting weather for City 34 of of group 4 : naze\n",
      "Getting weather for City 35 of of group 4 : marawi\n",
      "Getting weather for City 36 of of group 4 : ritchie\n",
      "Getting weather for City 37 of of group 4 : trincomalee\n",
      "Getting weather for City 38 of of group 4 : touros\n",
      "Getting weather for City 39 of of group 4 : illoqqortoormiut\n",
      "City illoqqortoormiut isn't reporting weather. Trying again\n",
      "Getting weather for City 39 of of group 4 : port alberni\n",
      "Getting weather for City 40 of of group 4 : inuvik\n",
      "Getting weather for City 41 of of group 4 : barentsburg\n",
      "City barentsburg isn't reporting weather. Trying again\n",
      "Getting weather for City 41 of of group 4 : sur\n",
      "Getting weather for City 42 of of group 4 : kambove\n",
      "Getting weather for City 43 of of group 4 : saint anthony\n",
      "Getting weather for City 44 of of group 4 : severo-kurilsk\n",
      "Getting weather for City 45 of of group 4 : villarrica\n",
      "Getting weather for City 46 of of group 4 : iqaluit\n",
      "Getting weather for City 47 of of group 4 : kosa\n",
      "Getting weather for City 48 of of group 4 : port lincoln\n",
      "Getting weather for City 49 of of group 4 : silivri\n",
      "Getting weather for City 50 of of group 4 : tutoia\n",
      "Getting weather for City 1 of of group 5 : diu\n",
      "Getting weather for City 2 of of group 5 : presidente olegario\n",
      "Getting weather for City 3 of of group 5 : pauini\n",
      "Getting weather for City 4 of of group 5 : husavik\n",
      "Getting weather for City 5 of of group 5 : ushtobe\n",
      "Getting weather for City 6 of of group 5 : kedrovyy\n",
      "Getting weather for City 7 of of group 5 : coihaique\n",
      "Getting weather for City 8 of of group 5 : veraval\n",
      "Getting weather for City 9 of of group 5 : okha\n",
      "Getting weather for City 10 of of group 5 : bud\n",
      "Getting weather for City 11 of of group 5 : cartagena del chaira\n",
      "Getting weather for City 12 of of group 5 : peekskill\n",
      "Getting weather for City 13 of of group 5 : diamantino\n",
      "Getting weather for City 14 of of group 5 : derzhavinsk\n",
      "Getting weather for City 15 of of group 5 : victoria\n",
      "Getting weather for City 16 of of group 5 : benghazi\n",
      "Getting weather for City 17 of of group 5 : urumqi\n",
      "Getting weather for City 18 of of group 5 : russell\n",
      "Getting weather for City 19 of of group 5 : sao felix do xingu\n",
      "Getting weather for City 20 of of group 5 : vostok\n",
      "Getting weather for City 21 of of group 5 : dunedin\n",
      "Getting weather for City 22 of of group 5 : chuy\n",
      "Getting weather for City 23 of of group 5 : maua\n",
      "Getting weather for City 24 of of group 5 : mehamn\n",
      "Getting weather for City 25 of of group 5 : bhinmal\n",
      "Getting weather for City 26 of of group 5 : minot\n",
      "Getting weather for City 27 of of group 5 : srednekolymsk\n",
      "Getting weather for City 28 of of group 5 : bengkulu\n",
      "Getting weather for City 29 of of group 5 : te anau\n",
      "Getting weather for City 30 of of group 5 : staryy nadym\n",
      "Getting weather for City 31 of of group 5 : lagoa\n",
      "Getting weather for City 32 of of group 5 : willemstad\n",
      "Getting weather for City 33 of of group 5 : toora-khem\n",
      "Getting weather for City 34 of of group 5 : boende\n",
      "Getting weather for City 35 of of group 5 : flinders\n",
      "Getting weather for City 36 of of group 5 : wegrow\n",
      "Getting weather for City 37 of of group 5 : belaya gora\n",
      "Getting weather for City 38 of of group 5 : lima\n",
      "Getting weather for City 39 of of group 5 : inhambane\n",
      "Getting weather for City 40 of of group 5 : polonnaruwa\n",
      "Getting weather for City 41 of of group 5 : sterling\n",
      "Getting weather for City 42 of of group 5 : vilhena\n",
      "Getting weather for City 43 of of group 5 : hasaki\n",
      "Getting weather for City 44 of of group 5 : moron\n",
      "Getting weather for City 45 of of group 5 : okhotsk\n",
      "Getting weather for City 46 of of group 5 : narsaq\n",
      "Getting weather for City 47 of of group 5 : nouadhibou\n",
      "Getting weather for City 48 of of group 5 : timbiqui\n",
      "Getting weather for City 49 of of group 5 : pallikonda\n",
      "City pallikonda isn't reporting weather. Trying again\n",
      "Getting weather for City 49 of of group 5 : montbrison\n",
      "Getting weather for City 50 of of group 5 : asau\n",
      "Getting weather for City 1 of of group 6 : eldikan\n",
      "City eldikan isn't reporting weather. Trying again\n",
      "Getting weather for City 1 of of group 6 : ladovskaya balka\n",
      "Getting weather for City 2 of of group 6 : sitka\n",
      "Getting weather for City 3 of of group 6 : celestun\n",
      "Getting weather for City 4 of of group 6 : klaksvik\n",
      "Getting weather for City 5 of of group 6 : rocha\n",
      "Getting weather for City 6 of of group 6 : bandarbeyla\n",
      "Getting weather for City 7 of of group 6 : lazaro cardenas\n",
      "Getting weather for City 8 of of group 6 : laguna\n",
      "Getting weather for City 9 of of group 6 : khonsa\n",
      "Getting weather for City 10 of of group 6 : mumbwa\n",
      "Getting weather for City 11 of of group 6 : one hundred mile house\n",
      "City one hundred mile house isn't reporting weather. Trying again\n",
      "Getting weather for City 11 of of group 6 : kegayli\n",
      "City kegayli isn't reporting weather. Trying again\n",
      "Getting weather for City 11 of of group 6 : sentyabrskiy\n",
      "City sentyabrskiy isn't reporting weather. Trying again\n",
      "Getting weather for City 11 of of group 6 : udachnyy\n",
      "Getting weather for City 12 of of group 6 : shetpe\n",
      "Getting weather for City 13 of of group 6 : leningradskiy\n",
      "Getting weather for City 14 of of group 6 : homer\n",
      "Getting weather for City 15 of of group 6 : lebu\n",
      "Getting weather for City 16 of of group 6 : korem\n"
     ]
    },
    {
     "name": "stdout",
     "output_type": "stream",
     "text": [
      "Getting weather for City 17 of of group 6 : nizhneyansk\n",
      "City nizhneyansk isn't reporting weather. Trying again\n",
      "Getting weather for City 17 of of group 6 : fukue\n",
      "Getting weather for City 18 of of group 6 : ulladulla\n",
      "Getting weather for City 19 of of group 6 : chagda\n",
      "City chagda isn't reporting weather. Trying again\n",
      "Getting weather for City 19 of of group 6 : artyk\n",
      "City artyk isn't reporting weather. Trying again\n",
      "Getting weather for City 19 of of group 6 : storforshei\n",
      "Getting weather for City 20 of of group 6 : samusu\n",
      "City samusu isn't reporting weather. Trying again\n",
      "Getting weather for City 20 of of group 6 : puerto ayora\n",
      "Getting weather for City 21 of of group 6 : coquimbo\n",
      "Getting weather for City 22 of of group 6 : sainte-marie\n",
      "Getting weather for City 23 of of group 6 : meridian\n",
      "Getting weather for City 24 of of group 6 : alofi\n",
      "Getting weather for City 25 of of group 6 : mys shmidta\n",
      "City mys shmidta isn't reporting weather. Trying again\n",
      "Getting weather for City 25 of of group 6 : angelholm\n",
      "City angelholm isn't reporting weather. Trying again\n",
      "Getting weather for City 25 of of group 6 : harper\n",
      "Getting weather for City 26 of of group 6 : alberton\n",
      "Getting weather for City 27 of of group 6 : mogapinyana\n",
      "Getting weather for City 28 of of group 6 : awjilah\n",
      "Getting weather for City 29 of of group 6 : haines junction\n",
      "Getting weather for City 30 of of group 6 : kodinsk\n",
      "Getting weather for City 31 of of group 6 : tateyama\n",
      "Getting weather for City 32 of of group 6 : natal\n",
      "Getting weather for City 33 of of group 6 : san jose\n",
      "Getting weather for City 34 of of group 6 : onverwacht\n",
      "Getting weather for City 35 of of group 6 : komsomolskiy\n",
      "Getting weather for City 36 of of group 6 : thompson\n",
      "Getting weather for City 37 of of group 6 : fairbanks\n",
      "Getting weather for City 38 of of group 6 : brighton\n",
      "Getting weather for City 39 of of group 6 : itarema\n",
      "Getting weather for City 40 of of group 6 : wanning\n",
      "Getting weather for City 41 of of group 6 : jurm\n",
      "Getting weather for City 42 of of group 6 : drezdenko\n",
      "Getting weather for City 43 of of group 6 : kapoeta\n"
     ]
    },
    {
     "ename": "JSONDecodeError",
     "evalue": "Expecting value: line 1 column 1 (char 0)",
     "output_type": "error",
     "traceback": [
      "\u001b[1;31m---------------------------------------------------------------------------\u001b[0m",
      "\u001b[1;31mJSONDecodeError\u001b[0m                           Traceback (most recent call last)",
      "\u001b[1;32m<ipython-input-4-be96427af042>\u001b[0m in \u001b[0;36m<module>\u001b[1;34m\u001b[0m\n\u001b[0;32m      6\u001b[0m \u001b[1;32mfor\u001b[0m \u001b[0mcity\u001b[0m \u001b[1;32min\u001b[0m \u001b[0mcities\u001b[0m\u001b[1;33m:\u001b[0m\u001b[1;33m\u001b[0m\u001b[1;33m\u001b[0m\u001b[0m\n\u001b[0;32m      7\u001b[0m     \u001b[0mquery_url\u001b[0m \u001b[1;33m=\u001b[0m \u001b[0mbase_url\u001b[0m \u001b[1;33m+\u001b[0m \u001b[0mcity\u001b[0m\u001b[1;33m\u001b[0m\u001b[1;33m\u001b[0m\u001b[0m\n\u001b[1;32m----> 8\u001b[1;33m     \u001b[0mdata\u001b[0m \u001b[1;33m=\u001b[0m \u001b[0mrequests\u001b[0m\u001b[1;33m.\u001b[0m\u001b[0mget\u001b[0m\u001b[1;33m(\u001b[0m\u001b[0mquery_url\u001b[0m\u001b[1;33m)\u001b[0m\u001b[1;33m.\u001b[0m\u001b[0mjson\u001b[0m\u001b[1;33m(\u001b[0m\u001b[1;33m)\u001b[0m\u001b[1;33m\u001b[0m\u001b[1;33m\u001b[0m\u001b[0m\n\u001b[0m\u001b[0;32m      9\u001b[0m \u001b[1;33m\u001b[0m\u001b[0m\n\u001b[0;32m     10\u001b[0m     \u001b[1;31m# to prevent premature halt on errors\u001b[0m\u001b[1;33m\u001b[0m\u001b[1;33m\u001b[0m\u001b[1;33m\u001b[0m\u001b[0m\n",
      "\u001b[1;32m~\\anaconda3\\lib\\site-packages\\requests\\models.py\u001b[0m in \u001b[0;36mjson\u001b[1;34m(self, **kwargs)\u001b[0m\n\u001b[0;32m    887\u001b[0m             \u001b[1;32mif\u001b[0m \u001b[0mencoding\u001b[0m \u001b[1;32mis\u001b[0m \u001b[1;32mnot\u001b[0m \u001b[1;32mNone\u001b[0m\u001b[1;33m:\u001b[0m\u001b[1;33m\u001b[0m\u001b[1;33m\u001b[0m\u001b[0m\n\u001b[0;32m    888\u001b[0m                 \u001b[1;32mtry\u001b[0m\u001b[1;33m:\u001b[0m\u001b[1;33m\u001b[0m\u001b[1;33m\u001b[0m\u001b[0m\n\u001b[1;32m--> 889\u001b[1;33m                     return complexjson.loads(\n\u001b[0m\u001b[0;32m    890\u001b[0m                         \u001b[0mself\u001b[0m\u001b[1;33m.\u001b[0m\u001b[0mcontent\u001b[0m\u001b[1;33m.\u001b[0m\u001b[0mdecode\u001b[0m\u001b[1;33m(\u001b[0m\u001b[0mencoding\u001b[0m\u001b[1;33m)\u001b[0m\u001b[1;33m,\u001b[0m \u001b[1;33m**\u001b[0m\u001b[0mkwargs\u001b[0m\u001b[1;33m\u001b[0m\u001b[1;33m\u001b[0m\u001b[0m\n\u001b[0;32m    891\u001b[0m                     )\n",
      "\u001b[1;32m~\\anaconda3\\lib\\json\\__init__.py\u001b[0m in \u001b[0;36mloads\u001b[1;34m(s, cls, object_hook, parse_float, parse_int, parse_constant, object_pairs_hook, **kw)\u001b[0m\n\u001b[0;32m    355\u001b[0m             \u001b[0mparse_int\u001b[0m \u001b[1;32mis\u001b[0m \u001b[1;32mNone\u001b[0m \u001b[1;32mand\u001b[0m \u001b[0mparse_float\u001b[0m \u001b[1;32mis\u001b[0m \u001b[1;32mNone\u001b[0m \u001b[1;32mand\u001b[0m\u001b[1;33m\u001b[0m\u001b[1;33m\u001b[0m\u001b[0m\n\u001b[0;32m    356\u001b[0m             parse_constant is None and object_pairs_hook is None and not kw):\n\u001b[1;32m--> 357\u001b[1;33m         \u001b[1;32mreturn\u001b[0m \u001b[0m_default_decoder\u001b[0m\u001b[1;33m.\u001b[0m\u001b[0mdecode\u001b[0m\u001b[1;33m(\u001b[0m\u001b[0ms\u001b[0m\u001b[1;33m)\u001b[0m\u001b[1;33m\u001b[0m\u001b[1;33m\u001b[0m\u001b[0m\n\u001b[0m\u001b[0;32m    358\u001b[0m     \u001b[1;32mif\u001b[0m \u001b[0mcls\u001b[0m \u001b[1;32mis\u001b[0m \u001b[1;32mNone\u001b[0m\u001b[1;33m:\u001b[0m\u001b[1;33m\u001b[0m\u001b[1;33m\u001b[0m\u001b[0m\n\u001b[0;32m    359\u001b[0m         \u001b[0mcls\u001b[0m \u001b[1;33m=\u001b[0m \u001b[0mJSONDecoder\u001b[0m\u001b[1;33m\u001b[0m\u001b[1;33m\u001b[0m\u001b[0m\n",
      "\u001b[1;32m~\\anaconda3\\lib\\json\\decoder.py\u001b[0m in \u001b[0;36mdecode\u001b[1;34m(self, s, _w)\u001b[0m\n\u001b[0;32m    335\u001b[0m \u001b[1;33m\u001b[0m\u001b[0m\n\u001b[0;32m    336\u001b[0m         \"\"\"\n\u001b[1;32m--> 337\u001b[1;33m         \u001b[0mobj\u001b[0m\u001b[1;33m,\u001b[0m \u001b[0mend\u001b[0m \u001b[1;33m=\u001b[0m \u001b[0mself\u001b[0m\u001b[1;33m.\u001b[0m\u001b[0mraw_decode\u001b[0m\u001b[1;33m(\u001b[0m\u001b[0ms\u001b[0m\u001b[1;33m,\u001b[0m \u001b[0midx\u001b[0m\u001b[1;33m=\u001b[0m\u001b[0m_w\u001b[0m\u001b[1;33m(\u001b[0m\u001b[0ms\u001b[0m\u001b[1;33m,\u001b[0m \u001b[1;36m0\u001b[0m\u001b[1;33m)\u001b[0m\u001b[1;33m.\u001b[0m\u001b[0mend\u001b[0m\u001b[1;33m(\u001b[0m\u001b[1;33m)\u001b[0m\u001b[1;33m)\u001b[0m\u001b[1;33m\u001b[0m\u001b[1;33m\u001b[0m\u001b[0m\n\u001b[0m\u001b[0;32m    338\u001b[0m         \u001b[0mend\u001b[0m \u001b[1;33m=\u001b[0m \u001b[0m_w\u001b[0m\u001b[1;33m(\u001b[0m\u001b[0ms\u001b[0m\u001b[1;33m,\u001b[0m \u001b[0mend\u001b[0m\u001b[1;33m)\u001b[0m\u001b[1;33m.\u001b[0m\u001b[0mend\u001b[0m\u001b[1;33m(\u001b[0m\u001b[1;33m)\u001b[0m\u001b[1;33m\u001b[0m\u001b[1;33m\u001b[0m\u001b[0m\n\u001b[0;32m    339\u001b[0m         \u001b[1;32mif\u001b[0m \u001b[0mend\u001b[0m \u001b[1;33m!=\u001b[0m \u001b[0mlen\u001b[0m\u001b[1;33m(\u001b[0m\u001b[0ms\u001b[0m\u001b[1;33m)\u001b[0m\u001b[1;33m:\u001b[0m\u001b[1;33m\u001b[0m\u001b[1;33m\u001b[0m\u001b[0m\n",
      "\u001b[1;32m~\\anaconda3\\lib\\json\\decoder.py\u001b[0m in \u001b[0;36mraw_decode\u001b[1;34m(self, s, idx)\u001b[0m\n\u001b[0;32m    353\u001b[0m             \u001b[0mobj\u001b[0m\u001b[1;33m,\u001b[0m \u001b[0mend\u001b[0m \u001b[1;33m=\u001b[0m \u001b[0mself\u001b[0m\u001b[1;33m.\u001b[0m\u001b[0mscan_once\u001b[0m\u001b[1;33m(\u001b[0m\u001b[0ms\u001b[0m\u001b[1;33m,\u001b[0m \u001b[0midx\u001b[0m\u001b[1;33m)\u001b[0m\u001b[1;33m\u001b[0m\u001b[1;33m\u001b[0m\u001b[0m\n\u001b[0;32m    354\u001b[0m         \u001b[1;32mexcept\u001b[0m \u001b[0mStopIteration\u001b[0m \u001b[1;32mas\u001b[0m \u001b[0merr\u001b[0m\u001b[1;33m:\u001b[0m\u001b[1;33m\u001b[0m\u001b[1;33m\u001b[0m\u001b[0m\n\u001b[1;32m--> 355\u001b[1;33m             \u001b[1;32mraise\u001b[0m \u001b[0mJSONDecodeError\u001b[0m\u001b[1;33m(\u001b[0m\u001b[1;34m\"Expecting value\"\u001b[0m\u001b[1;33m,\u001b[0m \u001b[0ms\u001b[0m\u001b[1;33m,\u001b[0m \u001b[0merr\u001b[0m\u001b[1;33m.\u001b[0m\u001b[0mvalue\u001b[0m\u001b[1;33m)\u001b[0m \u001b[1;32mfrom\u001b[0m \u001b[1;32mNone\u001b[0m\u001b[1;33m\u001b[0m\u001b[1;33m\u001b[0m\u001b[0m\n\u001b[0m\u001b[0;32m    356\u001b[0m         \u001b[1;32mreturn\u001b[0m \u001b[0mobj\u001b[0m\u001b[1;33m,\u001b[0m \u001b[0mend\u001b[0m\u001b[1;33m\u001b[0m\u001b[1;33m\u001b[0m\u001b[0m\n",
      "\u001b[1;31mJSONDecodeError\u001b[0m: Expecting value: line 1 column 1 (char 0)"
     ]
    }
   ],
   "source": [
    "# Starting the collection progress notification\n",
    "print(\" Searching Cities of the World\")\n",
    "print(\"*******************************\")\n",
    "\n",
    "# create a list of cities to fill the dataframe\n",
    "for city in cities:\n",
    "    query_url = base_url + city\n",
    "    data = requests.get(query_url).json()\n",
    "    \n",
    "    # to prevent premature halt on errors\n",
    "    try:\n",
    "        print(f\"Getting weather for City {item} of of group {batch} : {city}\")  \n",
    "        city_name.append(data[\"name\"])\n",
    "        city_country.append(data[\"sys\"][\"country\"])\n",
    "        city_lats.append(data[\"coord\"][\"lat\"])\n",
    "        city_lngs.append(data[\"coord\"][\"lon\"])    \n",
    "        city_temp.append(data[\"main\"][\"temp\"])\n",
    "        city_maxtemps.append(data[\"main\"][\"temp_max\"])\n",
    "        city_humidity.append(data[\"main\"][\"humidity\"])\n",
    "        city_cloudiness.append(data[\"clouds\"][\"all\"])\n",
    "        city_windspeed.append(data[\"wind\"][\"speed\"])\n",
    "        date.append(data[\"dt\"])\n",
    "        \n",
    "        # Count the cities \n",
    "        item += 1\n",
    "        \n",
    "        # Don't exceed the api call limit\n",
    "        if item > 50:\n",
    "            batch += 1\n",
    "            item = 1\n",
    "            time.sleep(1)\n",
    "    \n",
    "    except:\n",
    "        print(f\"City {city} isn't reporting weather. Trying again\")\n",
    "        \n",
    "# End of the list\n",
    "print(\"*************************\")\n",
    "print(\"   City List complete    \")\n",
    "print(\"*************************\")"
   ]
  },
  {
   "cell_type": "markdown",
   "metadata": {},
   "source": [
    "### Convert Raw Data to DataFrame\n",
    "* Export the city data into a .csv.\n",
    "* Display the DataFrame"
   ]
  },
  {
   "cell_type": "code",
   "execution_count": 5,
   "metadata": {},
   "outputs": [],
   "source": [
    "# Sort and store data and create the dataframe\n",
    "city_data_df = pd.DataFrame({\"City\": city_name,\n",
    "                                \"Country\": city_country,\n",
    "                                \"Date\": date,\n",
    "                                \"Lat\": city_lats,\n",
    "                                \"Lng\": city_lngs,\n",
    "                                \"Max Temp (F)\": city_maxtemps,\n",
    "                                \"Humidity (%)\": city_humidity,\n",
    "                                \"Cloudiness (%)\": city_cloudiness,\n",
    "                                \"Wind Speed (mph)\": city_windspeed,\n",
    "                                })\n",
    "city_data_df[\"Date\"] = pd.to_datetime(city_data_df[\"Date\"], unit = \"s\")\n",
    "\n",
    "# check that the dataframe works\n",
    "city_data_df\n",
    "city_data_df.to_csv(\"../output_file.csv\")"
   ]
  },
  {
   "cell_type": "markdown",
   "metadata": {},
   "source": [
    "## Inspect the data and remove the cities where the humidity > 100%.\n",
    "----\n",
    "Skip this step if there are no cities that have humidity > 100%. "
   ]
  },
  {
   "cell_type": "code",
   "execution_count": 6,
   "metadata": {},
   "outputs": [],
   "source": [
    "#  Get the indices of cities that have humidity over 100%.\n",
    "over_100 = city_data_df.loc[city_data_df[\"Humidity (%)\"] > 100, :]\n"
   ]
  },
  {
   "cell_type": "code",
   "execution_count": 7,
   "metadata": {},
   "outputs": [
    {
     "name": "stdout",
     "output_type": "stream",
     "text": [
      "Nothing to do here\n"
     ]
    }
   ],
   "source": [
    "# Make a new DataFrame equal to the city data to drop all humidity outliers by index.\n",
    "\n",
    "if over_100.empty == True:\n",
    "    print(\"Nothing to do here\")\n",
    "    latitudes = city_data_df[\"Lat\"]\n",
    "    temperatures = city_data_df[\"Max Temp (F)\"]\n",
    "    humidity = city_data_df[\"Humidity (%)\"]\n",
    "    cloudiness = city_data_df[\"Cloudiness (%)\"]\n",
    "    windspeed = city_data_df[\"Wind Speed (mph)\"]\n",
    "\n",
    "    # Passing \"inplace=False\" will make a copy of the city_data DataFrame, which we call \"clean_city_data\".    \n",
    "else:\n",
    "    over_100Index = over_100.index\n",
    "    \n",
    "    clean_city_data = city_data_df.drop(over100Index).reset_index(drop=True)\n",
    "    clean_city_data.head()\n",
    "    \n",
    "    # drops irrelivent data and makes a new df\n",
    "    latitudes = clean_city_data[\"Lat\"]\n",
    "    temperatures = clean_city_data[\"Max Temp (F)\"]\n",
    "    humidity = clean_city_data[\"Humidity (%)\"]\n",
    "    cloudiness = clean_city_data[\"Cloudiness (%)\"]\n",
    "    windspeed = clean_city_data[\"Wind Speed (mph)\"]\n"
   ]
  },
  {
   "cell_type": "markdown",
   "metadata": {},
   "source": [
    "## Plotting the Data\n",
    "* Use proper labeling of the plots using plot titles (including date of analysis) and axes labels.\n",
    "* Save the plotted figures as .pngs."
   ]
  },
  {
   "cell_type": "markdown",
   "metadata": {},
   "source": [
    "## Latitude vs. Temperature Plot"
   ]
  },
  {
   "cell_type": "code",
   "execution_count": 8,
   "metadata": {
    "scrolled": true
   },
   "outputs": [
    {
     "data": {
      "image/png": "[encoded data removed]",
      "text/plain": [
       "<Figure size 576x576 with 1 Axes>"
      ]
     },
     "metadata": {
      "needs_background": "light"
     },
     "output_type": "display_data"
    },
    {
     "data": {
      "text/plain": [
       "<Figure size 432x288 with 0 Axes>"
      ]
     },
     "metadata": {},
     "output_type": "display_data"
    }
   ],
   "source": [
    "# Latitude vs. Temperature for the city_data\n",
    "city_data_df.plot(kind=\"scatter\", x=\"Max Temp (F)\", y=\"Lat\", grid=True, figsize=(8,8),\n",
    "              title=\"City Latitude vs. Max Temperature\")\n",
    "plt.show()\n",
    "plt.tight_layout()\n",
    "plt.savefig(\"../latitude_v_temp.png\")"
   ]
  },
  {
   "cell_type": "markdown",
   "metadata": {},
   "source": [
    "### Global max temp plot confirm extreme temperatures trend towards the equator."
   ]
  },
  {
   "cell_type": "markdown",
   "metadata": {},
   "source": [
    "## Latitude vs. Humidity Plot"
   ]
  },
  {
   "cell_type": "code",
   "execution_count": 9,
   "metadata": {
    "scrolled": false
   },
   "outputs": [
    {
     "data": {
      "image/png": "[encoded data removed]",
      "text/plain": [
       "<Figure size 576x576 with 1 Axes>"
      ]
     },
     "metadata": {
      "needs_background": "light"
     },
     "output_type": "display_data"
    },
    {
     "data": {
      "text/plain": [
       "<Figure size 432x288 with 0 Axes>"
      ]
     },
     "metadata": {},
     "output_type": "display_data"
    }
   ],
   "source": [
    "# Latitude vs. Humidity for the city_data\n",
    "city_data_df.plot(kind=\"scatter\", x=\"Humidity (%)\", y=\"Lat\", grid=True, figsize=(8,8),\n",
    "              title=\"City Latitude vs. Humidity (%)\")\n",
    "plt.show()\n",
    "plt.tight_layout()\n",
    "plt.savefig(\"../latitude_v_humidty.png\")"
   ]
  },
  {
   "cell_type": "markdown",
   "metadata": {},
   "source": [
    "### Global humidity overview proves the further away from the equator, the greater the possibilty of moist air. "
   ]
  },
  {
   "cell_type": "markdown",
   "metadata": {},
   "source": [
    "## Latitude vs. Cloudiness Plot"
   ]
  },
  {
   "cell_type": "code",
   "execution_count": 10,
   "metadata": {},
   "outputs": [
    {
     "data": {
      "image/png": "[encoded data removed]",
      "text/plain": [
       "<Figure size 576x576 with 1 Axes>"
      ]
     },
     "metadata": {
      "needs_background": "light"
     },
     "output_type": "display_data"
    },
    {
     "data": {
      "text/plain": [
       "<Figure size 432x288 with 0 Axes>"
      ]
     },
     "metadata": {},
     "output_type": "display_data"
    }
   ],
   "source": [
    "# Latitude vs. Cloudiness for the city_data\n",
    "city_data_df.plot(kind=\"scatter\", x=\"Cloudiness (%)\", y=\"Lat\", grid=True, figsize=(8,8),\n",
    "              title=\"City Latitude vs. Cloudiness (%)\")\n",
    "plt.show()\n",
    "plt.tight_layout()\n",
    "plt.savefig(\"../latitude_v_Cloudiness.png\")"
   ]
  },
  {
   "cell_type": "markdown",
   "metadata": {},
   "source": [
    "### Overview of global cloudiness. Cloudiness seems to be completely random and is not based on Lat."
   ]
  },
  {
   "cell_type": "markdown",
   "metadata": {},
   "source": [
    "## Latitude vs. Wind Speed Plot"
   ]
  },
  {
   "cell_type": "code",
   "execution_count": 11,
   "metadata": {},
   "outputs": [
    {
     "data": {
      "image/png": "[encoded data removed]",
      "text/plain": [
       "<Figure size 576x576 with 1 Axes>"
      ]
     },
     "metadata": {
      "needs_background": "light"
     },
     "output_type": "display_data"
    },
    {
     "data": {
      "text/plain": [
       "<Figure size 432x288 with 0 Axes>"
      ]
     },
     "metadata": {},
     "output_type": "display_data"
    }
   ],
   "source": [
    "# Latitude vs. Wind Speed for the city_data\n",
    "city_data_df.plot(kind=\"scatter\", x=\"Wind Speed (mph)\", y=\"Lat\", grid=True, figsize=(8,8),\n",
    "              title=\"City Latitude vs. Wind Speed (mph)\")\n",
    "plt.show()\n",
    "plt.tight_layout()\n",
    "plt.savefig(\"../latitude_v_Wind.png\")"
   ]
  },
  {
   "cell_type": "markdown",
   "metadata": {},
   "source": [
    "### Overview of global wind speeds. Higher wind speeds don't seem to appear closer to the equator. "
   ]
  },
  {
   "cell_type": "markdown",
   "metadata": {},
   "source": [
    "## Linear Regression"
   ]
  },
  {
   "cell_type": "code",
   "execution_count": 12,
   "metadata": {},
   "outputs": [],
   "source": [
    "def plot_linear_regression(x, y, ax=None, **kwargs):\n",
    "    \n",
    "    ax = ax\n",
    "    slope, intercept, rvalue, pvalue, stderror = linregress(x,y)\n",
    "    print(f\"Linear Regression Completed...\")    \n",
    "    print(f\"The R Squared is: {rvalue**2}\")\n",
    "\n",
    "    # y = m * x + b\n",
    "    regress_values = slope * x + intercept\n",
    "    line_eq = \"y = \" + str(round(slope,2)) + \"x + \" + str(round(intercept,2))\n",
    "    ax.plot(x, regress_values, color=\"r\")\n",
    "    return ax, line_eq"
   ]
  },
  {
   "cell_type": "markdown",
   "metadata": {},
   "source": [
    "####  Northern Hemisphere - Max Temp vs. Latitude Linear Regression"
   ]
  },
  {
   "cell_type": "code",
   "execution_count": 13,
   "metadata": {},
   "outputs": [
    {
     "ename": "NameError",
     "evalue": "name 'cities_temps_df' is not defined",
     "output_type": "error",
     "traceback": [
      "\u001b[1;31m---------------------------------------------------------------------------\u001b[0m",
      "\u001b[1;31mNameError\u001b[0m                                 Traceback (most recent call last)",
      "\u001b[1;32m<ipython-input-13-82724342c6c0>\u001b[0m in \u001b[0;36m<module>\u001b[1;34m\u001b[0m\n\u001b[0;32m      1\u001b[0m \u001b[1;31m# Determine Northern Hemisphere Cities\u001b[0m\u001b[1;33m\u001b[0m\u001b[1;33m\u001b[0m\u001b[1;33m\u001b[0m\u001b[0m\n\u001b[0;32m      2\u001b[0m \u001b[1;32mif\u001b[0m \u001b[0mover_100\u001b[0m\u001b[1;33m.\u001b[0m\u001b[0mempty\u001b[0m \u001b[1;33m==\u001b[0m \u001b[1;32mTrue\u001b[0m\u001b[1;33m:\u001b[0m\u001b[1;33m\u001b[0m\u001b[1;33m\u001b[0m\u001b[0m\n\u001b[1;32m----> 3\u001b[1;33m     \u001b[0mnorthern_hemisphere\u001b[0m \u001b[1;33m=\u001b[0m \u001b[0mcities_temps_df\u001b[0m\u001b[1;33m.\u001b[0m\u001b[0mloc\u001b[0m\u001b[1;33m[\u001b[0m\u001b[0mcities_temps_df\u001b[0m\u001b[1;33m[\u001b[0m\u001b[1;34m\"Lat\"\u001b[0m\u001b[1;33m]\u001b[0m \u001b[1;33m>=\u001b[0m \u001b[1;36m0\u001b[0m\u001b[1;33m,\u001b[0m \u001b[1;33m:\u001b[0m\u001b[1;33m]\u001b[0m\u001b[1;33m.\u001b[0m\u001b[0mcopy\u001b[0m\u001b[1;33m(\u001b[0m\u001b[1;33m)\u001b[0m\u001b[1;33m.\u001b[0m\u001b[0mreset_index\u001b[0m\u001b[1;33m(\u001b[0m\u001b[0mdrop\u001b[0m\u001b[1;33m=\u001b[0m\u001b[1;32mTrue\u001b[0m\u001b[1;33m)\u001b[0m\u001b[1;33m\u001b[0m\u001b[1;33m\u001b[0m\u001b[0m\n\u001b[0m\u001b[0;32m      4\u001b[0m \u001b[1;32melse\u001b[0m\u001b[1;33m:\u001b[0m\u001b[1;33m\u001b[0m\u001b[1;33m\u001b[0m\u001b[0m\n\u001b[0;32m      5\u001b[0m     \u001b[0mnorthern_hemisphere\u001b[0m \u001b[1;33m=\u001b[0m \u001b[0mclean_city_data\u001b[0m\u001b[1;33m.\u001b[0m\u001b[0mloc\u001b[0m\u001b[1;33m[\u001b[0m\u001b[0mclean_city_data\u001b[0m\u001b[1;33m[\u001b[0m\u001b[1;34m\"Lat\"\u001b[0m\u001b[1;33m]\u001b[0m \u001b[1;33m>=\u001b[0m \u001b[1;36m0\u001b[0m\u001b[1;33m,\u001b[0m \u001b[1;33m:\u001b[0m\u001b[1;33m]\u001b[0m\u001b[1;33m.\u001b[0m\u001b[0mcopy\u001b[0m\u001b[1;33m(\u001b[0m\u001b[1;33m)\u001b[0m\u001b[1;33m.\u001b[0m\u001b[0mreset_index\u001b[0m\u001b[1;33m(\u001b[0m\u001b[0mdrop\u001b[0m\u001b[1;33m=\u001b[0m\u001b[1;32mTrue\u001b[0m\u001b[1;33m)\u001b[0m\u001b[1;33m\u001b[0m\u001b[1;33m\u001b[0m\u001b[0m\n",
      "\u001b[1;31mNameError\u001b[0m: name 'cities_temps_df' is not defined"
     ]
    }
   ],
   "source": [
    "# Determine Northern Hemisphere Cities\n",
    "if over_100.empty == True:\n",
    "    northern_hemisphere = cities_temps_df.loc[cities_temps_df[\"Lat\"] >= 0, :].copy().reset_index(drop=True)\n",
    "else:\n",
    "    northern_hemisphere = clean_city_data.loc[clean_city_data[\"Lat\"] >= 0, :].copy().reset_index(drop=True)\n",
    "    \n",
    "north_latitudes = northern_hemisphere[\"Lat\"]\n",
    "north_temperatures = northern_hemisphere[\"Max Temp (F)\"]\n",
    "north_humidity = northern_hemisphere[\"Humidity (%)\"]\n",
    "north_cloudiness = northern_hemisphere[\"Cloudiness (%)\"]\n",
    "north_windspeed = northern_hemisphere[\"Wind Speed (mph)\"]\n",
    "\n",
    "# Determine Southern Hemisphere Cities\n",
    "if over_100.empty == True:\n",
    "    southern_hemisphere = cities_temps_df.loc[cities_temps_df[\"Lat\"] < 0, :].copy().reset_index(drop=True)\n",
    "else:\n",
    "    southern_hemisphere = clean_city_data.loc[clean_city_data[\"Lat\"] < 0, :].copy().reset_index(drop=True)\n",
    "    \n",
    "south_latitudes = southern_hemisphere[\"Lat\"]\n",
    "south_temperatures = southern_hemisphere[\"Max Temp (F)\"]\n",
    "south_humidity = southern_hemisphere[\"Humidity (%)\"]\n",
    "south_cloudiness = southern_hemisphere[\"Cloudiness (%)\"]\n",
    "south_windspeed = southern_hemisphere[\"Wind Speed (mph)\"]"
   ]
  },
  {
   "cell_type": "code",
   "execution_count": null,
   "metadata": {},
   "outputs": [],
   "source": [
    "# Create the scatter plot add labels and markers\n",
    "fig, ax = plt.subplots(figsize = (8,6))\n",
    "plt.scatter(north_temperatures, north_latitudes, marker=\"o\", facecolors=\"r\", edgecolors=\"b\")\n",
    "plt.title(\"Max Temperature by Latitude for Cities in the Northern Hemisphere\", fontsize=16)\n",
    "plt.ylabel(\"Latitude\", fontsize=12)\n",
    "plt.xlabel(\"Max Temperature (F)\", fontsize=12)\n",
    "plt.grid()\n",
    "\n",
    "# plot liner regression line over the data\n",
    "ax, line_eq = plot_linear_regression(north_temperatures, north_latitudes, ax)\n",
    "plt.annotate(line_eq,(-10,20),fontsize=16,color=\"black\")\n",
    "\n",
    "plt.show()\n",
    "plt.savefig(\"../NH_Temps.png\")"
   ]
  },
  {
   "cell_type": "markdown",
   "metadata": {},
   "source": [
    "#### Temperatures in the Northern hemisphere are effected by the cities proximity towards the equator. The lower temperatures are almost always furthest away. The regression line shows a direct coorilation between latitude and temperature."
   ]
  },
  {
   "cell_type": "markdown",
   "metadata": {},
   "source": [
    "###  Southern Hemisphere - Max Temp vs. Latitude Linear Regression"
   ]
  },
  {
   "cell_type": "code",
   "execution_count": null,
   "metadata": {},
   "outputs": [],
   "source": [
    "# Create the scatter plot add labels and markers\n",
    "fig, ax = plt.subplots(figsize = (8,6))\n",
    "plt.scatter(south_temperatures, south_latitudes, marker=\"o\", facecolors=\"r\", edgecolors=\"b\")\n",
    "plt.title(\"Max Temperature by Latitude for Cities in the Southern Hemisphere\", fontsize=16)\n",
    "plt.ylabel(\"Latitude\", fontsize=12)\n",
    "plt.xlabel(\"Max Temperature (F)\", fontsize=12)\n",
    "plt.grid()\n",
    "\n",
    "# plot liner regression line over the data\n",
    "ax, line_eq = plot_linear_regression(south_temperatures, south_latitudes, ax)\n",
    "plt.annotate(line_eq,(50,-20),fontsize=16,color=\"black\")\n",
    "\n",
    "plt.show()\n",
    "plt.savefig(\"../SH_Temps.png\")"
   ]
  },
  {
   "cell_type": "markdown",
   "metadata": {},
   "source": [
    "#### Max temperatures in the Southern Hemisphere show a similar trend, the closer to the equater you are the higher the temps. The linear regression line shows a positive coorilation between latitude and temperature."
   ]
  },
  {
   "cell_type": "markdown",
   "metadata": {},
   "source": [
    "### Northern Hemisphere - Humidity (%) vs. Latitude Linear Regression"
   ]
  },
  {
   "cell_type": "code",
   "execution_count": null,
   "metadata": {},
   "outputs": [],
   "source": [
    "# Create the scatter plot add labels and markers\n",
    "fig, ax = plt.subplots(figsize = (8,6))\n",
    "plt.scatter(north_humidity, north_latitudes, marker=\"o\", facecolors=\"r\", edgecolors=\"b\")\n",
    "plt.title(\"Humidity by Latitude for Cities in the Northern Hemisphere\", fontsize=16)\n",
    "plt.ylabel(\"Latitude\", fontsize=12)\n",
    "plt.xlabel(\"Humidity (%)\", fontsize=12)\n",
    "plt.grid()\n",
    "\n",
    "# plot liner regression line over the data\n",
    "ax, line_eq = plot_linear_regression(north_latitudes, north_humidity, ax)\n",
    "plt.annotate(line_eq,(20,45),fontsize=16,color=\"black\")\n",
    "\n",
    "plt.show()\n",
    "plt.savefig(\"../NH_Humidity.png\")"
   ]
  },
  {
   "cell_type": "markdown",
   "metadata": {},
   "source": [
    "#### There appears to be a weak coorilation beween the amount of moisture in the air and the distance away from the equator."
   ]
  },
  {
   "cell_type": "markdown",
   "metadata": {},
   "source": [
    "####  Southern Hemisphere - Humidity (%) vs. Latitude Linear Regression"
   ]
  },
  {
   "cell_type": "code",
   "execution_count": null,
   "metadata": {},
   "outputs": [],
   "source": [
    "# Create the scatter plot add labels and markers\n",
    "fig, ax = plt.subplots(figsize = (8,6))\n",
    "plt.scatter(south_latitudes, south_humidity, marker=\"o\", facecolors=\"r\", edgecolors=\"b\")\n",
    "plt.title(\"Humidity by Latitude for Cities in the Southern Hemisphere\", fontsize=16)\n",
    "plt.ylabel(\"Latitude\", fontsize=12)\n",
    "plt.xlabel(\"Humidity (%)\", fontsize=12)\n",
    "plt.grid()\n",
    "\n",
    "# plot liner regression line over the data\n",
    "ax, line_eq = plot_linear_regression(south_latitudes, south_humidity, ax)\n",
    "plt.annotate(line_eq,(-55,45),fontsize=16,color=\"black\")\n",
    "\n",
    "plt.show()\n",
    "plt.savefig(\"../SH_Humidity.png\")"
   ]
  },
  {
   "cell_type": "markdown",
   "metadata": {},
   "source": [
    "####  Northern Hemisphere - Cloudiness (%) vs. Latitude Linear Regression"
   ]
  },
  {
   "cell_type": "code",
   "execution_count": null,
   "metadata": {},
   "outputs": [],
   "source": [
    "# Create the scatter plot add labels and markers\n",
    "fig, ax = plt.subplots(figsize = (8,6))\n",
    "plt.scatter(north_cloudiness, north_latitudes, marker=\"o\", facecolors=\"r\", edgecolors=\"b\")\n",
    "plt.title(\"Cloudiness by Latitude for Cities in the Northern Hemisphere\", fontsize=16)\n",
    "plt.ylabel(\"Latitude\", fontsize=12)\n",
    "plt.xlabel(\"Cloudiness (%)\", fontsize=12)\n",
    "plt.grid()\n",
    "\n",
    "# plot liner regression line over the data\n",
    "ax, line_eq = plot_linear_regression(north_cloudiness, north_latitudes, ax)\n",
    "plt.annotate(line_eq,(50,45),fontsize=16,color=\"black\")\n",
    "\n",
    "plt.show()\n",
    "plt.savefig(\"../NH_Cloudiness.png\")"
   ]
  },
  {
   "cell_type": "markdown",
   "metadata": {},
   "source": [
    "####  Southern Hemisphere - Cloudiness (%) vs. Latitude Linear Regression"
   ]
  },
  {
   "cell_type": "code",
   "execution_count": null,
   "metadata": {},
   "outputs": [],
   "source": [
    "# Create the scatter plot add labels and markers\n",
    "fig, ax = plt.subplots(figsize = (8,6))\n",
    "plt.scatter(south_cloudiness, south_latitudes, marker=\"o\", facecolors=\"r\", edgecolors=\"b\")\n",
    "plt.title(\"Cloudiness by Latitude for Cities in the Southern Hemisphere\", fontsize=16)\n",
    "plt.ylabel(\"Latitude\", fontsize=12)\n",
    "plt.xlabel(\"Cloudiness (%)\", fontsize=12)\n",
    "plt.grid()\n",
    "\n",
    "# plot liner regression line over the data\n",
    "ax, line_eq = plot_linear_regression(south_cloudiness, south_latitudes, ax)\n",
    "plt.annotate(line_eq,(20,-45),fontsize=16,color=\"black\")\n",
    "\n",
    "plt.show()\n",
    "plt.savefig(\"../SH_Cloudiness.png\")"
   ]
  },
  {
   "cell_type": "markdown",
   "metadata": {},
   "source": [
    "####  Northern Hemisphere - Wind Speed (mph) vs. Latitude Linear Regression"
   ]
  },
  {
   "cell_type": "code",
   "execution_count": null,
   "metadata": {},
   "outputs": [],
   "source": [
    "# Create the scatter plot add labels and markers\n",
    "fig, ax = plt.subplots(figsize = (8,6))\n",
    "plt.scatter(north_windspeed, north_latitudes, marker=\"o\", facecolors=\"r\", edgecolors=\"b\")\n",
    "plt.title(\"Wind Speed by Latitude for Cities in the Northern Hemisphere\", fontsize=16)\n",
    "plt.ylabel(\"Latitude\", fontsize=12)\n",
    "plt.xlabel(\"Wind Speed (mph)\", fontsize=12)\n",
    "plt.grid()\n",
    "\n",
    "# plot liner regression line over the data\n",
    "ax, line_eq = plot_linear_regression(north_windspeed, north_latitudes, ax)\n",
    "plt.annotate(line_eq,(10,20),fontsize=16,color=\"black\")\n",
    "\n",
    "plt.show()\n",
    "plt.savefig(\"../NH_Wind_Speeds.png\")"
   ]
  },
  {
   "cell_type": "markdown",
   "metadata": {},
   "source": [
    "### Linear regression line shows that there is likely not a coorilation between the wind speed and the and the distance away from the equator."
   ]
  },
  {
   "cell_type": "markdown",
   "metadata": {},
   "source": [
    "####  Southern Hemisphere - Wind Speed (mph) vs. Latitude Linear Regression"
   ]
  },
  {
   "cell_type": "code",
   "execution_count": null,
   "metadata": {},
   "outputs": [],
   "source": [
    "# Create the scatter plot add labels and markers\n",
    "fig, ax = plt.subplots(figsize = (8,6))\n",
    "plt.scatter(south_windspeed, south_latitudes, marker=\"o\", facecolors=\"r\", edgecolors=\"b\")\n",
    "plt.title(\"Wind Speed by Latitude for Cities in the Southern Hemisphere\", fontsize=16)\n",
    "plt.xlabel(\"Wind Speed (mph)\", fontsize=12)\n",
    "plt.ylabel(\"Latitude\", fontsize=12)\n",
    "plt.grid()\n",
    "\n",
    "# plot liner regression line over the data\n",
    "ax, line_eq = plot_linear_regression(south_windspeed, south_latitudes, ax)\n",
    "plt.annotate(line_eq,(20,-10),fontsize=16,color=\"black\")\n",
    "\n",
    "plt.show()\n",
    "plt.savefig(\"../SH_Wind_Speeds.png\")"
   ]
  },
  {
   "cell_type": "markdown",
   "metadata": {},
   "source": [
    "### Linear regression line shows that there is likely not a coorilation between the wind speed and the and the distance away from the equator."
   ]
  },
  {
   "cell_type": "code",
   "execution_count": null,
   "metadata": {},
   "outputs": [],
   "source": []
  }
 ],
 "metadata": {
  "anaconda-cloud": {},
  "kernel_info": {
   "name": "python3"
  },
  "kernelspec": {
   "display_name": "Python [conda env:root] *",
   "language": "python",
   "name": "conda-root-py"
  },
  "language_info": {
   "codemirror_mode": {
    "name": "ipython",
    "version": 3
   },
   "file_extension": ".py",
   "mimetype": "text/x-python",
   "name": "python",
   "nbconvert_exporter": "python",
   "pygments_lexer": "ipython3",
   "version": "3.8.3"
  },
  "latex_envs": {
   "LaTeX_envs_menu_present": true,
   "autoclose": false,
   "autocomplete": true,
   "bibliofile": "biblio.bib",
   "cite_by": "apalike",
   "current_citInitial": 1,
   "eqLabelWithNumbers": true,
   "eqNumInitial": 1,
   "hotkeys": {
    "equation": "Ctrl-E",
    "itemize": "Ctrl-I"
   },
   "labels_anchors": false,
   "latex_user_defs": false,
   "report_style_numbering": false,
   "user_envs_cfg": false
  },
  "nteract": {
   "version": "0.12.3"
  }
 },
 "nbformat": 4,
 "nbformat_minor": 2
}
